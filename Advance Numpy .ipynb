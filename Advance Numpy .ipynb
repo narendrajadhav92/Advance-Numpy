{
 "cells": [
  {
   "cell_type": "markdown",
   "metadata": {},
   "source": [
    "# Data Analysis in Python\n",
    "\n",
    "> Data analysis is a process of inspecting, cleaning, transforming, and modeling data with the goal of discovering useful information, suggesting conclusions, and supporting decision-making.\n",
    "\n",
    "\n",
    "\n",
    "## Numpy\n",
    "\n",
    "> Python by itself doesn't have any built in data types for arrays or matrices. Any direct (matrix multiplication) or indirect (image manipulation) operations that require arrays are done with the numpy package.\n",
    "\n",
    "Numpy is the core library for scientific computing in Python. It provides a high-performance multidimensional array object, and tools for working with these arrays. Numpy is one of the most commonly used and best supported libraries in python and is the basis of all numerical tools in python (most tools that we'll address from now on require it). \n",
    "\n",
    "Numpy is similar to matlab, as it is a fairly low level tool (many packages however - like pandas - feature higher level tools and are built on top of numpy).\n",
    "\n",
    "### Arrays\n",
    "\n",
    "Arrays are the most common data types in data science. A numpy array is a grid of values, all of the **same type**, and is **indexed by a tuple of nonnegative integers**.\n",
    "\n",
    "Contrary to lists, arrays have a fixed size, which needs to be set during the creation of the array. This allows these structures to be much faster and memory-efficient compared to other python data structures.\n",
    "\n",
    "An array has two main attributes:\n",
    "\n",
    "- Its `dtype`, indicating the data type of **all elements** in the array.\n",
    "- Its `shape`, which is a tuple showing the size (or length) of each dimension.\n",
    "\n",
    "In mathematical terms:\n",
    "\n",
    "- A 0D array, i.e. a number, is called a **scalar**.\n",
    "- A 1D array is called a **vector**.\n",
    "- A 2D array is called a **matrix**.\n",
    "- A 3D array is called a **tensor**.\n",
    "\n",
    "#### 1D Arrays\n",
    "\n",
    "A one-dimensional array can be thought of as a list that has a predefined size (i.e. length) and can contain only elements of a single data type. \n",
    "\n",
    "Let's dive right in. We'll first define the following array in numpy:\n",
    "\n",
    "$$ A =\\left( \\begin{array}{ccc}\n",
    "1 & 2 & 3\\end{array} \\right) $$"
   ]
  },
  {
   "cell_type": "code",
   "execution_count": 1,
   "metadata": {},
   "outputs": [
    {
     "data": {
      "text/plain": [
       "array([1, 2, 3])"
      ]
     },
     "execution_count": 1,
     "metadata": {},
     "output_type": "execute_result"
    }
   ],
   "source": [
    "from __future__ import print_function  # for python 2-3 compatibility\n",
    "import numpy as np  # because we use numpy often, its more convenient to refer to it as np\n",
    "\n",
    "A = np.array([1, 2, 3])  # this is how we define and initialize a known array\n",
    "A"
   ]
  },
  {
   "cell_type": "markdown",
   "metadata": {},
   "source": [
    "But, what **type** of an object is *A*?"
   ]
  },
  {
   "cell_type": "code",
   "execution_count": 2,
   "metadata": {},
   "outputs": [
    {
     "name": "stdout",
     "output_type": "stream",
     "text": [
      "<class 'numpy.ndarray'>\n"
     ]
    }
   ],
   "source": [
    "print(type(A))"
   ]
  },
  {
   "cell_type": "markdown",
   "metadata": {},
   "source": [
    "`ndarray` stands for **N-dimensional array**. This is a generalized array that can have any number of dimensions and is the numpy's main data structure. We'll see more further down.\n",
    "\n",
    "How can I access a **single element** in *A*?"
   ]
  },
  {
   "cell_type": "code",
   "execution_count": 3,
   "metadata": {},
   "outputs": [
    {
     "name": "stdout",
     "output_type": "stream",
     "text": [
      "1 2 3\n"
     ]
    }
   ],
   "source": [
    "print(A[0], A[1], A[2])"
   ]
  },
  {
   "cell_type": "markdown",
   "metadata": {},
   "source": [
    "Indexing works like it did with lists. As in most data types in python, the indexing in numpy arrays starts from 0.\n",
    "\n",
    "We said before that an array must contain elements of the same type.  \n",
    "\n",
    "What is the **data type of the elements** in *A*?"
   ]
  },
  {
   "cell_type": "code",
   "execution_count": 4,
   "metadata": {},
   "outputs": [
    {
     "name": "stdout",
     "output_type": "stream",
     "text": [
      "<class 'numpy.int32'>\n"
     ]
    }
   ],
   "source": [
    "print(type(A[0]))"
   ]
  },
  {
   "cell_type": "markdown",
   "metadata": {},
   "source": [
    "They're not regular integers, but a custom numpy 32-bit integer data type. We could also see this from a built in array variable."
   ]
  },
  {
   "cell_type": "code",
   "execution_count": 5,
   "metadata": {},
   "outputs": [
    {
     "name": "stdout",
     "output_type": "stream",
     "text": [
      "int32\n"
     ]
    }
   ],
   "source": [
    "print(A.dtype)"
   ]
  },
  {
   "cell_type": "markdown",
   "metadata": {},
   "source": [
    "Numpy supports a lot of different **data types**. Integers and Unsigned Integers (8, 16, 32, 64 bit), float (half - 16, single - 32 and double precision - 64), complex numbers (16, 32 and 64 bit) and others.\n",
    "\n",
    "Now that we got that out of the way, how can we **change an element** in *A*?"
   ]
  },
  {
   "cell_type": "code",
   "execution_count": 6,
   "metadata": {},
   "outputs": [
    {
     "name": "stdout",
     "output_type": "stream",
     "text": [
      "[2 5 7]\n"
     ]
    }
   ],
   "source": [
    "A[0] = 2.9; A[1] = 5; A[2] = 7.1\n",
    "print(A)"
   ]
  },
  {
   "cell_type": "markdown",
   "metadata": {},
   "source": [
    "Note that because `A` is an array of ints, it cast the values we assigned to it as ints (rather than changing its data type to suit the values)\n",
    "\n",
    "Slicing works like lists too."
   ]
  },
  {
   "cell_type": "code",
   "execution_count": 12,
   "metadata": {},
   "outputs": [
    {
     "name": "stdout",
     "output_type": "stream",
     "text": [
      "[2 5]\n",
      "[5 7]\n",
      "[2]\n"
     ]
    }
   ],
   "source": [
    "print(A[:2])   # print the first two elements\n",
    "\n",
    "print(A[-2:])  # print the last two elements\n",
    "\n",
    "print(A[-3:1])"
   ]
  },
  {
   "cell_type": "markdown",
   "metadata": {},
   "source": [
    "#### 2D Arrays\n",
    "\n",
    "Two dimensional arrays are essentially matrices, they are the most common form of arrays we will use. We usually refer to the first dimension as *rows* and the second as *columns*. Dimensions are referred to as **axes** in numpy.\n",
    "\n",
    "Let's create the array:\n",
    "$$ B = \\left( \\begin{array}{ccc}\n",
    "1 & 2 & 3 \\\\\n",
    "4 & 5 & 6 \\end{array} \\right) $$"
   ]
  },
  {
   "cell_type": "code",
   "execution_count": 14,
   "metadata": {},
   "outputs": [
    {
     "name": "stdout",
     "output_type": "stream",
     "text": [
      "[[1 2 3]\n",
      " [4 5 6]]\n"
     ]
    }
   ],
   "source": [
    "import numpy as np\n",
    "B = np.array([[1, 2, 3], [4, 5, 6]])  # we can initialize arrays with known values with a list of lists\n",
    "print(B)"
   ]
  },
  {
   "cell_type": "markdown",
   "metadata": {},
   "source": [
    "The initialization is done through a list for the rows, containing lists of values for the columns.\n",
    "\n",
    "Now say we want to retrieve the bottom right element (i.e. 6). The second row's index is 1 while the third column's index is 2."
   ]
  },
  {
   "cell_type": "code",
   "execution_count": 14,
   "metadata": {},
   "outputs": [
    {
     "name": "stdout",
     "output_type": "stream",
     "text": [
      "6\n"
     ]
    }
   ],
   "source": [
    "print(B[1,2])"
   ]
  },
  {
   "cell_type": "code",
   "execution_count": 15,
   "metadata": {},
   "outputs": [
    {
     "name": "stdout",
     "output_type": "stream",
     "text": [
      "5\n"
     ]
    }
   ],
   "source": [
    "print(B[1,1])"
   ]
  },
  {
   "cell_type": "code",
   "execution_count": 16,
   "metadata": {},
   "outputs": [
    {
     "name": "stdout",
     "output_type": "stream",
     "text": [
      "3\n"
     ]
    }
   ],
   "source": [
    "print(B[0,2])"
   ]
  },
  {
   "cell_type": "markdown",
   "metadata": {},
   "source": [
    "We just separate the two indices with a comma.\n",
    "\n",
    "Slicing works on each dimension separately."
   ]
  },
  {
   "cell_type": "code",
   "execution_count": 7,
   "metadata": {},
   "outputs": [
    {
     "name": "stdout",
     "output_type": "stream",
     "text": [
      "[4 6]\n"
     ]
    }
   ],
   "source": [
    "print(B[-1, ::2])  # print the last element from the odd columns"
   ]
  },
  {
   "cell_type": "markdown",
   "metadata": {},
   "source": [
    "#### N-D Arrays\n",
    "\n",
    "As N grows larger, these Arrays become increasingly more difficult to visualize and comprehend. However in numpy a 100D array is as complicated as a 3D one. This helps us a lot."
   ]
  },
  {
   "cell_type": "code",
   "execution_count": 3,
   "metadata": {},
   "outputs": [
    {
     "name": "stdout",
     "output_type": "stream",
     "text": [
      "[[[ 0  1  2]\n",
      "  [ 3  4  5]]\n",
      "\n",
      " [[ 6  7  8]\n",
      "  [ 9 10 11]]\n",
      "\n",
      " [[12 13 14]\n",
      "  [15 16 17]]]\n"
     ]
    }
   ],
   "source": [
    "C = np.array([[[0, 1, 2], [3, 4, 5]], [[6, 7, 8], [9, 10, 11]], [[12, 13, 14], [15, 16, 17]]])  # list of list of lists\n",
    "print(C)"
   ]
  },
  {
   "cell_type": "code",
   "execution_count": 8,
   "metadata": {},
   "outputs": [
    {
     "data": {
      "text/plain": [
       "13"
      ]
     },
     "execution_count": 8,
     "metadata": {},
     "output_type": "execute_result"
    }
   ],
   "source": [
    "C[0,0,0]\n",
    "\n",
    "C[0,0,1]\n",
    "\n",
    "C[0,1,0]\n",
    "\n",
    "C[2,0,1]\n",
    "\n",
    "C[2][0][1]"
   ]
  },
  {
   "cell_type": "markdown",
   "metadata": {},
   "source": [
    "Indexing an element in an n-dimensional array isn't that hard.\n",
    "\n",
    "Suppose that the:\n",
    "\n",
    "- **i** is the index of the element's 1st dimension (axis=0).\n",
    "- **j** is the index of the element's 2nd dimension (axis=1).\n",
    "- **k** is the index of the element's 3rd dimension (axis=2).\n",
    "- **l** is the index of the element's 4th dimension (axis=3).\n",
    "- **m** is the index of the element's 5th dimension (axis=4).  \n",
    "...\n",
    "\n",
    "The element with the above indices in array `Arr` is:\n",
    "```python\n",
    "element = Arr[i, j, k, l, m, ...]\n",
    "```\n",
    "\n",
    "As an example, the element *13* in array *C*:\n",
    "- **i** is 3.\n",
    "- **j** is 1.\n",
    "- **k** is 2."
   ]
  },
  {
   "cell_type": "code",
   "execution_count": 4,
   "metadata": {},
   "outputs": [
    {
     "name": "stdout",
     "output_type": "stream",
     "text": [
      "13\n"
     ]
    }
   ],
   "source": [
    "print(C[2, 0, 1])"
   ]
  },
  {
   "cell_type": "markdown",
   "metadata": {},
   "source": [
    "#### Slicing \n",
    "\n",
    "Slicing works separately for each axis.\n",
    "\n",
    "If we want the middle sub-array of *C*:\n",
    "$$ slc = \\left( \\begin{array}{ccc}\n",
    "6 & 7 & 8 \\\\\n",
    "9 & 10 & 11 \\end{array} \\right) $$"
   ]
  },
  {
   "cell_type": "code",
   "execution_count": 15,
   "metadata": {},
   "outputs": [
    {
     "data": {
      "text/plain": [
       "array([[[ 0,  1,  2],\n",
       "        [ 3,  4,  5]],\n",
       "\n",
       "       [[ 6,  7,  8],\n",
       "        [ 9, 10, 11]],\n",
       "\n",
       "       [[12, 13, 14],\n",
       "        [15, 16, 17]]])"
      ]
     },
     "execution_count": 15,
     "metadata": {},
     "output_type": "execute_result"
    }
   ],
   "source": [
    "C"
   ]
  },
  {
   "cell_type": "code",
   "execution_count": 5,
   "metadata": {},
   "outputs": [
    {
     "data": {
      "text/plain": [
       "array([[ 2,  5,  8, 11, 14, 17]])"
      ]
     },
     "execution_count": 5,
     "metadata": {},
     "output_type": "execute_result"
    }
   ],
   "source": [
    "C[:,:,2].reshape(1,6)"
   ]
  },
  {
   "cell_type": "code",
   "execution_count": 10,
   "metadata": {},
   "outputs": [
    {
     "data": {
      "text/plain": [
       "array([[1],\n",
       "       [4]])"
      ]
     },
     "execution_count": 10,
     "metadata": {},
     "output_type": "execute_result"
    }
   ],
   "source": [
    "A = [[1,2,3],[4,5,6]]\n",
    "A = np.array(A)\n",
    "\n",
    "#A[:,:]\n",
    "\n",
    "#A[::,::]\n",
    "\n",
    "A[:1,:]\n",
    "\n",
    "A[:,:1]\n",
    "\n",
    "#A[::,::2]\n",
    "\n",
    "#A[::,]\n",
    "\n",
    "# # :: | : |  |"
   ]
  },
  {
   "cell_type": "code",
   "execution_count": 33,
   "metadata": {},
   "outputs": [
    {
     "name": "stdout",
     "output_type": "stream",
     "text": [
      "[[ 6  7  8]\n",
      " [ 9 10 11]]\n"
     ]
    }
   ],
   "source": [
    "slc = C[1,:,:]  # we want the index 1 of the 1st axis and all the values from the rest\n",
    "# this can also be written as C[1, ...]\n",
    "print(slc)"
   ]
  },
  {
   "cell_type": "code",
   "execution_count": 35,
   "metadata": {},
   "outputs": [
    {
     "data": {
      "text/plain": [
       "11"
      ]
     },
     "execution_count": 35,
     "metadata": {},
     "output_type": "execute_result"
    }
   ],
   "source": [
    "slc[0,0]\n",
    "#slc[1,2]"
   ]
  },
  {
   "cell_type": "markdown",
   "metadata": {},
   "source": [
    "Likewise if we wanted just the right columns of *C*:\n",
    "$$slc = \\left( \\begin{array}{ccc}\n",
    "2  \\\\\n",
    "5  \\\\\n",
    "8  \\\\\n",
    "11  \\\\\n",
    "14  \\\\\n",
    "17  \\end{array} \\right) $$"
   ]
  },
  {
   "cell_type": "code",
   "execution_count": 7,
   "metadata": {},
   "outputs": [
    {
     "name": "stdout",
     "output_type": "stream",
     "text": [
      "[[ 2  5]\n",
      " [ 8 11]\n",
      " [14 17]]\n"
     ]
    },
    {
     "data": {
      "text/plain": [
       "array([[ 2,  5],\n",
       "       [ 8, 11],\n",
       "       [14, 17]])"
      ]
     },
     "execution_count": 7,
     "metadata": {},
     "output_type": "execute_result"
    }
   ],
   "source": [
    "# print(C)\n",
    "\n",
    "slc = C[:,:,2]\n",
    "\n",
    "# or equivalently C[..., 2]\n",
    "print(slc)\n",
    "C[..., 2]"
   ]
  },
  {
   "cell_type": "code",
   "execution_count": 42,
   "metadata": {},
   "outputs": [
    {
     "data": {
      "text/plain": [
       "(3, 2)"
      ]
     },
     "execution_count": 42,
     "metadata": {},
     "output_type": "execute_result"
    }
   ],
   "source": [
    "slc.shape # row, column"
   ]
  },
  {
   "cell_type": "code",
   "execution_count": 4,
   "metadata": {},
   "outputs": [
    {
     "data": {
      "text/plain": [
       "(3, 2, 3)"
      ]
     },
     "execution_count": 4,
     "metadata": {},
     "output_type": "execute_result"
    }
   ],
   "source": [
    "C.shape"
   ]
  },
  {
   "cell_type": "markdown",
   "metadata": {},
   "source": [
    "In order to turn `slc` into the format we wanted we must reshape it."
   ]
  },
  {
   "cell_type": "code",
   "execution_count": 39,
   "metadata": {},
   "outputs": [
    {
     "name": "stdout",
     "output_type": "stream",
     "text": [
      "[[ 6  7  8]\n",
      " [ 9 10 11]]\n",
      "(2, 3)\n"
     ]
    }
   ],
   "source": [
    "slc = slc.reshape((2,3))\n",
    "print(slc)\n",
    "print(slc.shape)"
   ]
  },
  {
   "cell_type": "markdown",
   "metadata": {},
   "source": [
    "More on that later though.\n",
    "\n",
    "Lastly, if we want the whole array as a slice:"
   ]
  },
  {
   "cell_type": "code",
   "execution_count": 10,
   "metadata": {},
   "outputs": [
    {
     "name": "stdout",
     "output_type": "stream",
     "text": [
      "[[[ 0  1  2]\n",
      "  [ 3  4  5]]\n",
      "\n",
      " [[ 6  7  8]\n",
      "  [ 9 10 11]]\n",
      "\n",
      " [[12 13 14]\n",
      "  [15 16 17]]]\n",
      "True True True\n"
     ]
    }
   ],
   "source": [
    "slc = C[:]       # slice containing C as a whole\n",
    "slc2 = C[:,:,:]  # same thing\n",
    "slc3 = C[...] # we need 3 dots\n",
    "\n",
    "print(slc3)\n",
    "print(np.array_equal(C, slc), np.array_equal(slc, slc2), np.array_equal(slc2, slc3))\n",
    "# check if C == slc, slc == slc2 and if slc2 == slc3 "
   ]
  },
  {
   "cell_type": "code",
   "execution_count": 46,
   "metadata": {},
   "outputs": [
    {
     "data": {
      "text/plain": [
       "array([[[ 0,  1,  2],\n",
       "        [ 3,  4,  5]],\n",
       "\n",
       "       [[ 6,  7,  8],\n",
       "        [ 9, 10, 11]],\n",
       "\n",
       "       [[12, 13, 14],\n",
       "        [15, 16, 17]]])"
      ]
     },
     "execution_count": 46,
     "metadata": {},
     "output_type": "execute_result"
    }
   ],
   "source": [
    "C"
   ]
  },
  {
   "cell_type": "code",
   "execution_count": 12,
   "metadata": {},
   "outputs": [
    {
     "data": {
      "text/plain": [
       "False"
      ]
     },
     "execution_count": 12,
     "metadata": {},
     "output_type": "execute_result"
    }
   ],
   "source": [
    "S = C.reshape((1,18))\n",
    "S\n",
    "np.array_equal(S,C)"
   ]
  },
  {
   "cell_type": "markdown",
   "metadata": {},
   "source": [
    "#### Indexing arbitrary elements\n",
    "\n",
    "By passing a list of indices, we can get a slice of any arbitrary positions we want!"
   ]
  },
  {
   "cell_type": "code",
   "execution_count": 67,
   "metadata": {},
   "outputs": [],
   "source": [
    "A = np.array([1,2,3])"
   ]
  },
  {
   "cell_type": "code",
   "execution_count": 15,
   "metadata": {},
   "outputs": [
    {
     "name": "stdout",
     "output_type": "stream",
     "text": [
      "[1 3]\n",
      "[[1 3]\n",
      " [4 6]]\n",
      "[[ 0  1]\n",
      " [12 13]]\n"
     ]
    }
   ],
   "source": [
    "print(A[[0, 2]]) # 1d array        # get elements in the positions 0 and 2 of array A\n",
    "\n",
    "print(B[:, [0, 2]])   # 2d array   # get a slice of B with all the rows and columns in the positions 0 and 2\n",
    "\n",
    "print(C[[0, 2], 0, :2])  # etc..."
   ]
  },
  {
   "cell_type": "markdown",
   "metadata": {},
   "source": [
    "### Built-in Functions\n",
    "\n",
    "There are also a lot of built-in functions in numpy arrays. The most important ones are the following\n",
    "\n",
    "#### Array Information: \n",
    "\n",
    "- `A.dtype` returns the type of the elements in *A*.\n",
    "- `A.shape` returns the shape of *A*, i.e. a tuple containing the size of its dimensions.\n",
    "- `A.ndim` returns the rank of *A*, i.e. the number of its dimensions.\n",
    "- `A.size` returns the number of elements in *A*, i.e. the product of the values in `A.shape`.\n",
    "- `A.nbytes` returns the total bytes consumed by the elements of the array, i.e. (bytes in `A.dtype`) `* A.size / 8` .\n",
    "\n",
    "#### Array Conversions:\n",
    "\n",
    "- `A.tolist()` returns the array as a (possibly nested) list.\n",
    "- `A.tofile()` writes *A* to a file as text or binary (default).\n",
    "- `A.dump(file)` dumps a pickle of *A* to the specified *file*.\n",
    "- `A.astype(dtype)` returns the copy of the array, cast to a specified type.\n",
    "- `A.copy()` returns a copy of the *A*.\n",
    "\n",
    "#### Shape Manipulation:\n",
    "\n",
    "- `np.transpose(A)` or `A.T` returns transposed *A*.\n",
    "- `A.reshape(shape)` changes the shape of *A* to *shape*.\n",
    "- `A.swapaxes(axis1, axis2)` returns a view of the array with axis1 and axis2 interchanged.\n",
    "- `A.flatten()` returns a copy of the array collapsed into one dimension.\n",
    "- `A.repeat(n)` repeats elements of an array *n* times. e.g. $ A =\\left( \\begin{array}{ccc}\n",
    "1 & 2 & 3\\end{array} \\right) $ for $n=2$ becomes $ A =\\left( \\begin{array}{ccc}\n",
    "1 & 1 & 2 & 2 & 3 & 3\\end{array} \\right) $\n",
    "\n",
    "#### Item Manipulation:\n",
    "\n",
    "- `A.sort()` sorts *A*, in-place.\n",
    "- `A.argsort()` returns the indices that would sort *A*.\n",
    "- `A.nonzero()`\treturns the indices of the elements that are non-zero.\n",
    "\n",
    "#### Calculations:\n",
    "\n",
    "- `A.max()` returns the largest element in *A*.\n",
    "- `A.min()` returns the smallest element in *A*.\n",
    "- `A.sum()` returns the sum of the elements in *A*.\n",
    "- `A.mean()` returns the mean of the elements in *A*.\n",
    "- `A.var()` returns the variation of the elements in *A*.\n",
    "- `A.std()` returns the standard deviation of the elements in *A*.\n",
    "- `A.prod()` returns the product of the elements in *A*.\n",
    "- `A.all()` returns True if all elements in *A* are True.\n",
    "- `A.any()` returns True if any of the elements in *A* are True."
   ]
  },
  {
   "cell_type": "code",
   "execution_count": 11,
   "metadata": {},
   "outputs": [
    {
     "name": "stdout",
     "output_type": "stream",
     "text": [
      "[[[111. 112. 113.]\n",
      "  [114. 115. 116.]]\n",
      "\n",
      " [[117. 118. 119.]\n",
      "  [120. 121. 122.]]\n",
      "\n",
      " [[123. 124. 125.]\n",
      "  [126. 127. 128.]]]\n",
      "[[[ 0.  1.  2.]\n",
      "  [ 3.  4.  5.]]\n",
      "\n",
      " [[ 6.  7.  8.]\n",
      "  [ 9. 10. 11.]]\n",
      "\n",
      " [[12. 13. 14.]\n",
      "  [15. 16. 17.]]]\n",
      "Transposed:\n",
      " [[[ 0.  6. 12.]\n",
      "  [ 3.  9. 15.]]\n",
      "\n",
      " [[ 1.  7. 13.]\n",
      "  [ 4. 10. 16.]]\n",
      "\n",
      " [[ 2.  8. 14.]\n",
      "  [ 5. 11. 17.]]]\n",
      "None\n",
      "[[[0 1 2]\n",
      "  [0 1 2]]\n",
      "\n",
      " [[0 1 2]\n",
      "  [0 1 2]]\n",
      "\n",
      " [[0 1 2]\n",
      "  [0 1 2]]]\n",
      "(array([0, 0, 0, 0, 0, 1, 1, 1, 1, 1, 1, 2, 2, 2, 2, 2, 2], dtype=int64), array([0, 0, 1, 1, 1, 0, 0, 0, 1, 1, 1, 0, 0, 0, 1, 1, 1], dtype=int64), array([1, 2, 0, 1, 2, 0, 1, 2, 0, 1, 2, 0, 1, 2, 0, 1, 2], dtype=int64))\n"
     ]
    }
   ],
   "source": [
    "# print('There are size', C.size, 'elements in C.')\n",
    "# print('The shape of C is', C.shape)\n",
    "# print('The rank of C is', C.ndim)\n",
    "# print('The dtype',C.dtype)\n",
    "# print('bytes',C.nbytes)\n",
    "\n",
    "# print('List equivalent:\\n', C.tolist())\n",
    "\n",
    "# C = C.astype(float) # typecasting\n",
    "# print(C.astype(float))\n",
    "# print(C.dtype)\n",
    "\n",
    "\n",
    "# D = C.copy()\n",
    "\n",
    "\n",
    "# print(D)\n",
    "\n",
    "# D =D +111\n",
    "# print(D)\n",
    "# print(C)\n",
    "# print('Transposed:\\n', C.T)\n",
    "\n",
    "# print(C.sort())\n",
    "# print(C.argsort())\n",
    "# print(C.nonzero())\n",
    "\n",
    "# print(C)\n",
    "# print('max =', C.max())\n",
    "# print('min =', C.min())\n",
    "# print('sum =', C.sum())\n",
    "# print('mean =', C.mean())\n",
    "# print('sum / size = ', C.sum() / float(C.size))\n",
    "\n",
    "# print(C.argsort())"
   ]
  },
  {
   "cell_type": "markdown",
   "metadata": {},
   "source": [
    "### Array Creation\n",
    "\n",
    "There are a lot of ways to create arrays. The basic way we saw up till now (which creates and populates the array) serves only for small arrays. What we tend to do in practice, is to create an array, either empty or containing placeholder values. Then we populate that array through iteration."
   ]
  },
  {
   "cell_type": "code",
   "execution_count": 59,
   "metadata": {},
   "outputs": [
    {
     "name": "stdout",
     "output_type": "stream",
     "text": [
      "[[5.7857652e-39 8.4489539e-39 5.3265527e-39]\n",
      " [7.8061461e-39 9.2755463e-39 1.0561242e-38]\n",
      " [7.3469686e-39 9.0000426e-39 9.6428784e-39]]\n"
     ]
    }
   ],
   "source": [
    "shp = (3, 3, 3)           # The shape we want our array to have\n",
    "E = np.empty(shp, dtype='f')  # We create an empty array with the predefined shape and data type\n",
    "print(E[0,:10,:])             # let's print a small slice of E"
   ]
  },
  {
   "cell_type": "markdown",
   "metadata": {},
   "source": [
    "So, `E` is essentially initialized with random values. Other options include:"
   ]
  },
  {
   "cell_type": "code",
   "execution_count": 90,
   "metadata": {},
   "outputs": [
    {
     "name": "stdout",
     "output_type": "stream",
     "text": [
      "[[[ 0.  1.  2.]\n",
      "  [ 3.  4.  5.]]\n",
      "\n",
      " [[ 6.  7.  8.]\n",
      "  [ 9. 10. 11.]]\n",
      "\n",
      " [[12. 13. 14.]\n",
      "  [15. 16. 17.]]]\n"
     ]
    }
   ],
   "source": [
    "# E = np.random.random(shp)  # array containing random values in [0,1)\n",
    "# print(E[0,:3,:])\n",
    "# print('\\n')\n",
    "# shp = (3,2,3)\n",
    "# E = np.zeros(shp, dtype='f')  # array containing zeros\n",
    "# print(E[0,:3,:])\n",
    "# print('\\n')\n",
    "# E = np.ones(shp, dtype='f')  # array containing ones\n",
    "# print(E[0,:3,:])\n",
    "# print('\\n')\n",
    "# E = np.full(shp, 7, dtype='f')  # array containing sevens\n",
    "# print(E[0,:3,:])\n",
    "# print('\\n')\n",
    "E = np.arange(np.prod(shp), dtype='f').reshape(shp)  # array with values from range(size)\n",
    "print(E)\n",
    "# The above line consists of three commands:\n",
    "# # the first one, np.prod(shp), returns the product of the values in shp, i.e. 3*2*3 = 18.\n",
    "# # the second one, np.arrange(18), creates a 1D array containing elements from range(18), i.e. C = [0, 1, 2, ... 17].\n",
    "# # the last one, E.reshape(shp), changes E's shape to shp.\n",
    "# print(E[0,:3,:])"
   ]
  },
  {
   "cell_type": "code",
   "execution_count": 103,
   "metadata": {},
   "outputs": [
    {
     "data": {
      "text/plain": [
       "array([[1., 0., 0., 0.],\n",
       "       [0., 1., 0., 0.],\n",
       "       [0., 0., 1., 0.],\n",
       "       [0., 0., 0., 1.]])"
      ]
     },
     "execution_count": 103,
     "metadata": {},
     "output_type": "execute_result"
    }
   ],
   "source": [
    "np.eye(4)"
   ]
  },
  {
   "cell_type": "markdown",
   "metadata": {},
   "source": [
    "Once we have an array of the shape and dtype of our choice, we can populate it with the values that we want."
   ]
  },
  {
   "cell_type": "markdown",
   "metadata": {},
   "source": [
    "### Array operations\n",
    "\n",
    "By default, most operations performed on numpy arrays are elementwise.\n",
    "\n",
    "$$\n",
    "Arr1 = \\left( \\begin{array}{ccc}\n",
    "1 & 2 & 3 \\\\\n",
    "4 & 5 & 6 \\\\\n",
    "7 & 8 & 9 \\end{array} \\right), \\:\n",
    "Arr2 = \\left( \\begin{array}{ccc}\n",
    "11 & 12 & 13 \\\\\n",
    "14 & 15 & 16 \\\\\n",
    "17 & 18 & 19 \\end{array} \\right)\n",
    "$$\n",
    "\n",
    "For example in numpy the product of these two arrays is:\n",
    "\n",
    "$$\n",
    "Arr1 \\cdot Arr2 =\n",
    "\\left( \\begin{array}{ccc}\n",
    "11 & 24 & 39 \\\\\n",
    "56 & 75 & 96 \\\\\n",
    "119 & 144 & 171 \\end{array} \\right)\n",
    "$$\n",
    "\n",
    "#### Elementwise operations"
   ]
  },
  {
   "cell_type": "code",
   "execution_count": 12,
   "metadata": {},
   "outputs": [
    {
     "name": "stdout",
     "output_type": "stream",
     "text": [
      "A =                [1 2 3]\n",
      "A + 1 =            [2 3 4]\n",
      "A ** 2 =           [1 4 9]\n",
      "O =                [0 1 2]\n",
      "A + O =            [1 3 5]\n",
      "A * O =            [0 2 6]\n",
      "2 ** (O + 1) - A = [1 2 5]\n"
     ]
    }
   ],
   "source": [
    "print('A =               ', A)\n",
    "print('A + 1 =           ', A + 1)\n",
    "print('A ** 2 =          ', A ** 2)\n",
    "O = np.arange((3))\n",
    "print('O =               ', O)\n",
    "print('A + O =           ', A + O)\n",
    "print('A * O =           ', A * O)\n",
    "print('2 ** (O + 1) - A =', 2 ** (O + 1) - A)"
   ]
  },
  {
   "cell_type": "markdown",
   "metadata": {},
   "source": [
    "These are also equivalent to.\n",
    "\n",
    "```python\n",
    "np.add(A, O)\n",
    "np.subtract(A, O)\n",
    "np.multiply(A, O)\n",
    "np.divide(A, O)\n",
    "np.exp(A)\n",
    "np.sqrt(A)\n",
    "```\n",
    "\n",
    "Note that `A * O` is **not** matrix multiplication! It is an **elementwise multiplication**.\n",
    "\n",
    "#### Vecotr/Matrix operations"
   ]
  },
  {
   "cell_type": "code",
   "execution_count": null,
   "metadata": {},
   "outputs": [],
   "source": [
    "print('matrix mul: A * O = ', np.dot(A, O))\n",
    "print('same as: ', A.dot(O))\n",
    "print('outer product: A x O\\n', np.outer(A,O))"
   ]
  },
  {
   "cell_type": "markdown",
   "metadata": {},
   "source": [
    "#### Broadcasting\n",
    "\n",
    "Some elementwise operations are not defined mathematically. For this reason, numpy uses a technique called broadcasting. What this does is it repeats the element that has less axes to match the other. This is illustrated in the image below.\n",
    "\n",
    "![](http://www.scipy-lectures.org/_images/numpy_broadcasting.png)\n",
    "\n",
    "Note, the dimensions must be compatible for broadcasting to work (the dimension being repeated needs to be divisible by the dimension it is going to match.\n",
    "\n",
    "```python\n",
    "x  # array with shape (6, 2)\n",
    "y  # array with shape (6, 3)\n",
    "z  # array with shape (6, 8)\n",
    "\n",
    "x + y  # error\n",
    "y + z  # error\n",
    "x + z  # array with shape (6, 8)\n",
    "```\n",
    "\n",
    "### Exercise 1: Try to confirm the above image in numpy\n",
    "\n",
    "### Solution:"
   ]
  },
  {
   "cell_type": "code",
   "execution_count": 13,
   "metadata": {},
   "outputs": [
    {
     "name": "stdout",
     "output_type": "stream",
     "text": [
      "[[ 0  0  0  0]\n",
      " [10 10 10 10]\n",
      " [20 20 20 20]\n",
      " [30 30 30 30]] \n",
      " + \n",
      " [[0 1 2 4]] \n",
      " = \n",
      " [[ 0  1  2  4]\n",
      " [10 11 12 14]\n",
      " [20 21 22 24]\n",
      " [30 31 32 34]]\n"
     ]
    }
   ],
   "source": [
    "A = np.array([[0], [10], [20], [30]]).repeat(4, axis=1)\n",
    "# Creates a column array with 4 values and repeats 3 times it along the horizontal axis.\n",
    "B = np.array([[0, 1, 2,4],]).repeat(1, axis=1)\n",
    "# print(A)\n",
    "\n",
    "# print('B',B)\n",
    "# Creates an array with 3 values and repeats 4 times it along the vertical axis.\n",
    "print('{} \\n + \\n {} \\n = \\n {}'.format(A, B, A+B))"
   ]
  },
  {
   "cell_type": "code",
   "execution_count": null,
   "metadata": {},
   "outputs": [],
   "source": [
    "B = np.array([0, 1, 2])\n",
    "print('{} \\n + \\n {} \\n = \\n {}'.format(A, B, A+B))      "
   ]
  },
  {
   "cell_type": "code",
   "execution_count": null,
   "metadata": {},
   "outputs": [],
   "source": [
    "A = np.array([[0], [10], [20], [30]])\n",
    "print('{} \\n + \\n {} \\n = \\n {}'.format(A, B, A+B))      "
   ]
  },
  {
   "cell_type": "markdown",
   "metadata": {},
   "source": [
    "#### Logical Operations\n",
    "\n",
    "An array can also contain boolean values in it. Logical operations are operations between two such arrays."
   ]
  },
  {
   "cell_type": "code",
   "execution_count": 120,
   "metadata": {},
   "outputs": [
    {
     "name": "stdout",
     "output_type": "stream",
     "text": [
      "[ True False False False]\n"
     ]
    }
   ],
   "source": [
    "a = np.array([True, True, False, False])\n",
    "b = np.array([True, False, True, False])\n",
    "# print(np.logical_or(a, b))\n",
    "print(np.logical_and(a, b))"
   ]
  },
  {
   "cell_type": "markdown",
   "metadata": {},
   "source": [
    "We can also compare the two arrays with all known logical operators. Like all `numpy` operators, they perform their operations elementwise."
   ]
  },
  {
   "cell_type": "code",
   "execution_count": null,
   "metadata": {},
   "outputs": [],
   "source": [
    "print(a > b)  # True if the element of a is larger than the corresponding element of b \n",
    "print(a == b)\n",
    "print(a != b)"
   ]
  },
  {
   "cell_type": "markdown",
   "metadata": {},
   "source": [
    "**Tip:** You can use `np.all()` or `np.any()` for comparing arrays as a whole (python's built-in `all()`, `any()` functions may not work properly with arrays).\n",
    "\n",
    "#### Transcendental Functions\n",
    "\n",
    "These compute the `math` package functions to all the elements of an array."
   ]
  },
  {
   "cell_type": "code",
   "execution_count": 125,
   "metadata": {},
   "outputs": [
    {
     "name": "stdout",
     "output_type": "stream",
     "text": [
      "[-1  0  1  2  3  4  5  6  7  8  9]\n",
      "[-0.84147098  0.          0.84147098  0.90929743  0.14112001 -0.7568025\n",
      " -0.95892427 -0.2794155   0.6569866   0.98935825  0.41211849]\n",
      "[       nan       -inf 0.         0.69314718 1.09861229 1.38629436\n",
      " 1.60943791 1.79175947 1.94591015 2.07944154 2.19722458]\n",
      "[3.67879441e-01 1.00000000e+00 2.71828183e+00 7.38905610e+00\n",
      " 2.00855369e+01 5.45981500e+01 1.48413159e+02 4.03428793e+02\n",
      " 1.09663316e+03 2.98095799e+03 8.10308393e+03]\n"
     ]
    },
    {
     "name": "stderr",
     "output_type": "stream",
     "text": [
      "C:\\Users\\YASH~1.AGR\\AppData\\Local\\Temp/ipykernel_63440/85857262.py:5: RuntimeWarning: divide by zero encountered in log\n",
      "  print(np.log(a))\n",
      "C:\\Users\\YASH~1.AGR\\AppData\\Local\\Temp/ipykernel_63440/85857262.py:5: RuntimeWarning: invalid value encountered in log\n",
      "  print(np.log(a))\n"
     ]
    }
   ],
   "source": [
    "a = np.arange(-1, 10)\n",
    "\n",
    "print(a)\n",
    "print(np.sin(a))\n",
    "print(np.log(a))\n",
    "print(np.exp(a))"
   ]
  }
 ],
 "metadata": {
  "kernelspec": {
   "display_name": "Python 3 (ipykernel)",
   "language": "python",
   "name": "python3"
  },
  "language_info": {
   "codemirror_mode": {
    "name": "ipython",
    "version": 3
   },
   "file_extension": ".py",
   "mimetype": "text/x-python",
   "name": "python",
   "nbconvert_exporter": "python",
   "pygments_lexer": "ipython3",
   "version": "3.9.13"
  }
 },
 "nbformat": 4,
 "nbformat_minor": 1
}
